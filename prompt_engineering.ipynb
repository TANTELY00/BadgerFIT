{
  "nbformat": 4,
  "nbformat_minor": 0,
  "metadata": {
    "colab": {
      "provenance": [],
      "authorship_tag": "ABX9TyNH1aOm6LeGI9jE8Xo2j20x",
      "include_colab_link": true
    },
    "kernelspec": {
      "name": "python3",
      "display_name": "Python 3"
    },
    "language_info": {
      "name": "python"
    }
  },
  "cells": [
    {
      "cell_type": "markdown",
      "metadata": {
        "id": "view-in-github",
        "colab_type": "text"
      },
      "source": [
        "<a href=\"https://colab.research.google.com/github/TANTELY00/BadgerFIT/blob/master/prompt_engineering.ipynb\" target=\"_parent\"><img src=\"https://colab.research.google.com/assets/colab-badge.svg\" alt=\"Open In Colab\"/></a>"
      ]
    },
    {
      "cell_type": "code",
      "execution_count": 17,
      "metadata": {
        "id": "qWG6Zh5Fkl6H"
      },
      "outputs": [],
      "source": [
        "import openai\n",
        "import json\n",
        "import tiktoken\n",
        "import session_info\n",
        "import pandas as pd\n",
        "import numpy as np\n",
        "from datasets import load_dataset\n",
        "from collections import Counter\n",
        "from tqdm import tqdm\n",
        "from sklearn.model_selection import train_test_split\n",
        "from sklearn.metrics import f1_score\n",
        "from langchain_groq import ChatGroq\n",
        "from langchain_openai import ChatOpenAI\n",
        "from langchain_community.llms import Ollama"
      ]
    },
    {
      "cell_type": "code",
      "source": [
        "session_info.show()\n",
        "\n",
        "\n"
      ],
      "metadata": {
        "colab": {
          "base_uri": "https://localhost:8080/",
          "height": 453
        },
        "id": "KcRtEWarmjHw",
        "outputId": "de45a1ef-2616-45b0-e0c8-47270f734df4"
      },
      "execution_count": 18,
      "outputs": [
        {
          "output_type": "execute_result",
          "data": {
            "text/plain": [
              "<IPython.core.display.HTML object>"
            ],
            "text/html": [
              "<details>\n",
              "<summary>Click to view session information</summary>\n",
              "<pre>\n",
              "-----\n",
              "datasets            3.3.2\n",
              "langchain_community 0.3.18\n",
              "langchain_groq      0.2.4\n",
              "langchain_openai    NA\n",
              "numpy               1.26.4\n",
              "openai              1.61.1\n",
              "pandas              2.2.2\n",
              "session_info        1.0.0\n",
              "sklearn             1.6.1\n",
              "tiktoken            0.9.0\n",
              "tqdm                4.67.1\n",
              "-----\n",
              "</pre>\n",
              "<details>\n",
              "<summary>Click to view modules imported as dependencies</summary>\n",
              "<pre>\n",
              "Cython                      3.0.12\n",
              "PIL                         11.1.0\n",
              "aiohappyeyeballs            2.4.6\n",
              "aiohttp                     3.11.12\n",
              "aiosignal                   1.3.2\n",
              "annotated_types             0.7.0\n",
              "anyio                       NA\n",
              "attr                        25.1.0\n",
              "backcall                    0.2.0\n",
              "bottleneck                  1.4.2\n",
              "certifi                     2025.01.31\n",
              "chardet                     5.2.0\n",
              "charset_normalizer          3.4.1\n",
              "click                       8.1.8\n",
              "cloudpickle                 3.1.1\n",
              "cramjam                     2.9.1\n",
              "cycler                      0.12.1\n",
              "cython                      3.0.12\n",
              "cython_runtime              NA\n",
              "dateutil                    2.8.2\n",
              "debugpy                     1.8.0\n",
              "decorator                   4.4.2\n",
              "defusedxml                  0.7.1\n",
              "dill                        0.3.8\n",
              "distro                      1.9.0\n",
              "filelock                    3.17.0\n",
              "frozenlist                  1.5.0\n",
              "fsspec                      2024.10.0\n",
              "google                      NA\n",
              "httplib2                    0.22.0\n",
              "httpx                       0.28.1\n",
              "huggingface_hub             0.28.1\n",
              "idna                        3.10\n",
              "importlib_metadata          NA\n",
              "ipykernel                   6.17.1\n",
              "ipython_genutils            0.2.0\n",
              "ipywidgets                  7.7.1\n",
              "jiter                       0.8.2\n",
              "joblib                      1.4.2\n",
              "jsonpatch                   1.33\n",
              "jsonpointer                 3.0.0\n",
              "kiwisolver                  1.4.8\n",
              "langchain_core              0.3.37\n",
              "langsmith                   0.3.9\n",
              "matplotlib                  3.10.0\n",
              "matplotlib_inline           0.1.7\n",
              "mpl_toolkits                NA\n",
              "multidict                   6.1.0\n",
              "multiprocess                0.70.16\n",
              "numexpr                     2.10.2\n",
              "orjson                      3.10.15\n",
              "packaging                   24.2\n",
              "pexpect                     4.9.0\n",
              "pickleshare                 0.7.5\n",
              "platformdirs                4.3.6\n",
              "portpicker                  NA\n",
              "prompt_toolkit              3.0.50\n",
              "propcache                   0.3.0\n",
              "psutil                      5.9.5\n",
              "ptyprocess                  0.7.0\n",
              "pyarrow                     18.1.0\n",
              "pydantic                    2.10.6\n",
              "pydantic_core               2.27.2\n",
              "pydev_ipython               NA\n",
              "pydevconsole                NA\n",
              "pydevd                      2.9.5\n",
              "pydevd_file_utils           NA\n",
              "pydevd_plugins              NA\n",
              "pydevd_tracing              NA\n",
              "pygments                    2.18.0\n",
              "pyparsing                   3.2.1\n",
              "pytz                        2025.1\n",
              "rapids_dask_dependency      NA\n",
              "regex                       2.5.148\n",
              "requests                    2.32.3\n",
              "requests_toolbelt           1.0.0\n",
              "rich                        NA\n",
              "scipy                       1.13.1\n",
              "sitecustomize               NA\n",
              "six                         1.17.0\n",
              "snappy                      0.7.3\n",
              "sniffio                     1.3.1\n",
              "socks                       1.7.1\n",
              "soundfile                   0.13.1\n",
              "sphinxcontrib               NA\n",
              "storemagic                  NA\n",
              "tenacity                    NA\n",
              "threadpoolctl               3.5.0\n",
              "tiktoken_ext                NA\n",
              "tornado                     6.4.2\n",
              "traitlets                   5.7.1\n",
              "typing_extensions           NA\n",
              "urllib3                     2.3.0\n",
              "wcwidth                     0.2.13\n",
              "xxhash                      NA\n",
              "yaml                        6.0.2\n",
              "yarl                        1.18.3\n",
              "zipp                        NA\n",
              "zmq                         24.0.1\n",
              "zoneinfo                    NA\n",
              "zstandard                   0.23.0\n",
              "</pre>\n",
              "</details> <!-- seems like this ends pre, so might as well be explicit -->\n",
              "<pre>\n",
              "-----\n",
              "IPython             7.34.0\n",
              "jupyter_client      6.1.12\n",
              "jupyter_core        5.7.2\n",
              "notebook            6.5.5\n",
              "-----\n",
              "Python 3.11.11 (main, Dec  4 2024, 08:55:07) [GCC 11.4.0]\n",
              "Linux-6.1.85+-x86_64-with-glibc2.35\n",
              "-----\n",
              "Session information updated at 2025-02-27 18:13\n",
              "</pre>\n",
              "</details>"
            ]
          },
          "metadata": {},
          "execution_count": 18
        }
      ]
    },
    {
      "cell_type": "code",
      "source": [
        "encoding = tiktoken.encoding_for_model(\"gpt-4-turbo\")\n",
        "system_message =\"\"\"\n",
        "Peform Sentiment analysis of the revview presented in the user message.\n",
        "The result should be positive or negative. Do not justify your response\n",
        "\"\"\"\n",
        "print(encoding.encode(system_message))"
      ],
      "metadata": {
        "colab": {
          "base_uri": "https://localhost:8080/"
        },
        "id": "bR2s665xnnMk",
        "outputId": "0239df87-e669-4af3-c8b3-a8fa96df9247"
      },
      "execution_count": 19,
      "outputs": [
        {
          "output_type": "stream",
          "name": "stdout",
          "text": [
            "[720, 10407, 630, 24248, 3904, 6492, 315, 279, 5891, 1068, 10666, 304, 279, 1217, 1984, 627, 791, 1121, 1288, 387, 6928, 477, 8389, 13, 3234, 539, 9541, 701, 2077, 198]\n"
          ]
        }
      ]
    },
    {
      "cell_type": "code",
      "source": [
        "GROQ_API_KEY = \"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\"\n",
        "groq_llm = ChatGroq(model_name=\"llama3-70b-8192\", temperature=0,  api_key=GROQ_API_KEY)\n",
        "system_message =\"\"\"\n",
        "Classify the sentiment of the review presented in the input as 'positive' or 'negative'\n",
        "The review will be delimited by triple backticks ``` in the input.\n",
        "Answer only 'positive' or 'negative'\n",
        "Do not explain your answer.\n",
        "\"\"\"\n",
        "user_message_template =\"```{review}```\"\n",
        "user_message =\"I think that your services are very fine\"\n",
        "zero_shot_prompt = [\n",
        "    {\"role\":\"system\",\"content\":system_message},\n",
        "    {\"role\":\"user\", \"content\":user_message_template.format(review=user_message)},\n",
        "]\n",
        "response = groq_llm.invoke(zero_shot_prompt)\n",
        "print(response.content.replace(\"</s>\",\"\"))"
      ],
      "metadata": {
        "colab": {
          "base_uri": "https://localhost:8080/"
        },
        "id": "0e7ae_icrUnh",
        "outputId": "ca0b45da-69e1-4849-f78d-bdeefa1023c9"
      },
      "execution_count": 20,
      "outputs": [
        {
          "output_type": "stream",
          "name": "stdout",
          "text": [
            "positive\n"
          ]
        }
      ]
    },
    {
      "cell_type": "code",
      "source": [
        "llama_llm  = Ollama(model=\"mistral\", temperature=0)\n",
        "system_message =\"\"\"\n",
        "Classify the sentiment of the review presented in the input as 'positive' or 'negative'\n",
        "The review will be delimited by triple backticks ``` in the input.\n",
        "Answer only 'positive' or 'negative'.\n",
        "Do not explain your answer.\n",
        "\"\"\"\n",
        "user_message_template =\"```{review}```\"\n",
        "user_message =\"The look is bad\"\n",
        "few_shot_prompt = [\n",
        "    {\"role\":\"system\",\"content\":system_message},\n",
        "    {\"role\":\"user\", \"content\":user_message_template.format(review=user_message)},\n",
        "]\n",
        "response = llama_llm.invoke(few_shot_prompt)\n",
        "print(response)"
      ],
      "metadata": {
        "id": "A7uMgGzMtOJ4"
      },
      "execution_count": null,
      "outputs": []
    },
    {
      "cell_type": "code",
      "source": [
        "import base64\n",
        "import requests\n",
        "\n",
        "# OpenAI API Key\n",
        "api_key = \"......\"\n",
        "\n",
        "# Function to encode the image\n",
        "def encode_image(image_path):\n",
        "    with open(image_path, \"rb\") as image_file:\n",
        "        return base64.b64encode(image_file.read()).decode('utf-8')\n",
        "\n",
        "# Path to your image\n",
        "image_path = \"images/students.jpg\"\n",
        "\n",
        "# Getting the base64 string\n",
        "base64_image = encode_image(image_path)\n",
        "\n",
        "headers = {\n",
        "    \"Content-Type\": \"application/json\",\n",
        "    \"Authorization\": f\"Bearer {api_key}\"\n",
        "}\n",
        "\n",
        "prompt_text = \"\"\"\n",
        "Donne moi une description de cette image. Le résultat sera au format json avec les champs suivants :\n",
        " - Description : Une description de l'image\n",
        " - Nombre de personnes dans l'image\n",
        " - Nombre de filles\n",
        " - Nombre de garçon\n",
        "\"\"\"\n",
        "payload = {\n",
        "    #\"model\": \"gpt-4-vision-preview\",\n",
        "     \"model\": \"gpt-4o\",\n",
        "    \"messages\": [\n",
        "      {\n",
        "        \"role\": \"user\",\n",
        "        \"content\": [\n",
        "          {\n",
        "            \"type\": \"text\",\n",
        "            \"text\": prompt_text\n",
        "          },\n",
        "          {\n",
        "            \"type\": \"image_url\",\n",
        "            \"image_url\": {\n",
        "              \"url\": f\"data:image/jpeg;base64,{base64_image}\"\n",
        "            }\n",
        "          }\n",
        "        ]\n",
        "      }\n",
        "    ],\n",
        "    \"max_tokens\": 300\n",
        "}\n",
        "\n",
        "response = requests.post(\"https://api.openai.com/v1/chat/completions\", headers=headers, json=payload)\n",
        "\n",
        "print(response.json()['choices'][0]['message']['content'])"
      ],
      "metadata": {
        "id": "fnSn0A4TtaQ8"
      },
      "execution_count": null,
      "outputs": []
    },
    {
      "cell_type": "code",
      "source": [
        "import json\n",
        "import requests\n",
        "import io\n",
        "import base64\n",
        "from PIL import Image\n",
        "from IPython.display import display\n",
        "\n",
        "url = \"https://api.openai.com/v1/images/generations\"\n",
        "\n",
        "headers = {\n",
        "    \"Content-Type\": \"application/json\",\n",
        "    \"Authorization\": f\"Bearer {api_key}\"\n",
        "}\n",
        "\n",
        "payload = {\n",
        "    \"model\": \"dall-e-3\",\n",
        "    \"prompt\": \"un chat avec un costume dans une fête avec un café dans sa main\",\n",
        "    \"response_format\":\"b64_json\",\n",
        "    \"n\": 1,\n",
        "    \"size\":\"1024x1024\"\n",
        "}\n",
        "\n",
        "response = requests.post(url=f'{url}', headers=headers, json=payload)\n",
        "image_data = response.json()[\"data\"][0][\"b64_json\"]\n",
        "image = Image.open(io.BytesIO(base64.b64decode(image_data)))\n",
        "image.save('output.png')\n",
        "display(image)\n",
        "print(image)"
      ],
      "metadata": {
        "id": "Zg_QqInLukFA"
      },
      "execution_count": null,
      "outputs": []
    },
    {
      "cell_type": "code",
      "source": [
        "import json\n",
        "import requests\n",
        "import io\n",
        "import base64\n",
        "from PIL import Image\n",
        "from IPython.display import display\n",
        "\n",
        "url = \"http://127.0.0.1:7860\"\n",
        "\n",
        "payload = {\n",
        "    \"prompt\": \"Une peinture de PICASSO représentant un chat\",\n",
        "    \"steps\": 50,\n",
        "    \"width\":600,\n",
        "    \"height\":600\n",
        "}\n",
        "\n",
        "response = requests.post(url=f'{url}/sdapi/v1/txt2img', json=payload)\n",
        "\n",
        "r = response.json()\n",
        "\n",
        "image = Image.open(io.BytesIO(base64.b64decode(r['images'][0])))\n",
        "image.save('output2.png')\n",
        "display(image)"
      ],
      "metadata": {
        "id": "bRib6051utDM"
      },
      "execution_count": null,
      "outputs": []
    },
    {
      "cell_type": "code",
      "source": [],
      "metadata": {
        "id": "aDtt0QW8u8FK"
      },
      "execution_count": null,
      "outputs": []
    }
  ]
}